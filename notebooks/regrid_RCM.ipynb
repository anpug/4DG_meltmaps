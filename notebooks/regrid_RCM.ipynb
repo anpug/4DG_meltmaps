{
 "cells": [
  {
   "cell_type": "code",
   "execution_count": 2,
   "id": "80cdd2f3",
   "metadata": {},
   "outputs": [],
   "source": [
    "import xarray as xr\n",
    "import numpy as np\n",
    "import matplotlib.pyplot as plt\n",
    "import pickle \n",
    "from multiprocess import Pool\n",
    "import cartopy\n",
    "# Import helper functions: \n",
    "import sys\n",
    "sys.path.append('../scripts/')\n",
    "from load_data import load_yearly_RCM, load_ASCAT_grid\n",
    "\n",
    "    \n",
    "# Function for multiprocessing the regridding of melt data: \n",
    "def multiprocess_griddig(doy):\n",
    "    '''\n",
    "    Function used for multiprocessing of the regridding of data. Depending on the resolution of the RCM, the method\n",
    "    of the regridding might need to be changed. \n",
    "    \n",
    "    Input: doy: day of the year \n",
    "    \n",
    "    Outout: grid_var: Data on the new grid for the given day of the year. \n",
    "    '''\n",
    "    \n",
    "    data_var = melt_data[doy]\n",
    "    grid_var = np.flipud(grid_data(polar_lat, polar_lon, data_var, tif_lat, tif_lon, 'nearest'))\n",
    "    return grid_var  \n",
    "\n",
    "def perform_regridding(st_year, end_year, RCM_name, home_dir): \n",
    "    '''\n",
    "    Function for permoforming the regridding of the RCM data and save annual data in a pickle file.\n",
    "    \n",
    "    Input:  st_year: Start year of the regridding.\n",
    "            end_year: End year of the regridding.\n",
    "            RCM_name: Name of the RCM model. \n",
    "            home_dir: Home directory of the project.\n",
    "    \n",
    "    '''\n",
    "    for year in range(st_year,end_year+1): \n",
    "        print(year)\n",
    "        # Now we import a year and one RCM for the full year: \n",
    "        polar_lat, polar_lon, melt_data = load_yearly_RCM(home_dir, RCM_name, year)\n",
    "\n",
    "        # Day of the year. \n",
    "        doy = np.arange(0,np.size(melt_data,0))\n",
    "\n",
    "        print('Begin regridding')\n",
    "        # Regrid using multiprossing. Remember to check if the method is correct in the function definition.\n",
    "        pool = Pool()\n",
    "        pool_output = pool.map(multiprocess_griddig,doy)\n",
    "        pool.close()\n",
    "        pool.join \n",
    "    \n",
    "        print('Regridding done')\n",
    "        # Reshape results:\n",
    "        data_regrid_shape = (np.size(melt_data,0), 540,299)\n",
    "        melt_regridded = np.reshape(pool_output, data_regrid_shape)\n",
    "\n",
    "        # Save as pickle:\n",
    "        with open(home_dir + f'/regriddedRCM/{RCM_name}_{year}_regridded_nearest.pkl','wb') as f:\n",
    "            pickle.dump(melt_regridded, f)\n",
    "    "
   ]
  },
  {
   "cell_type": "markdown",
   "id": "ae1d390d",
   "metadata": {},
   "source": [
    "# Define which RCM and perform regridding rutine: "
   ]
  },
  {
   "cell_type": "code",
   "execution_count": 3,
   "id": "1aff0b39",
   "metadata": {},
   "outputs": [],
   "source": [
    "home_dir = '/Volumes/disk3s1/enveo/'\n",
    "# Choose RCM and year:\n",
    "RCM_name = 'MAR'\n",
    "\n",
    "# Load ASCAT grid which the data will be regridded to:\n",
    "tif_lat, tif_lon = load_ASCAT_grid(home_dir)\n",
    "\n",
    "# Perform regridding:\n",
    "perform_regridding(2001, 2018, RCM_name, home_dir)"
   ]
  }
 ],
 "metadata": {
  "kernelspec": {
   "display_name": "Python 3 (ipykernel)",
   "language": "python",
   "name": "python3"
  },
  "language_info": {
   "codemirror_mode": {
    "name": "ipython",
    "version": 3
   },
   "file_extension": ".py",
   "mimetype": "text/x-python",
   "name": "python",
   "nbconvert_exporter": "python",
   "pygments_lexer": "ipython3",
   "version": "3.11.4"
  }
 },
 "nbformat": 4,
 "nbformat_minor": 5
}
