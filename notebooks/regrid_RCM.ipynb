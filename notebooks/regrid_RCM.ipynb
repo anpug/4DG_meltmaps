{
 "cells": [
  {
   "cell_type": "code",
   "execution_count": 1,
   "id": "80cdd2f3",
   "metadata": {},
   "outputs": [],
   "source": [
    "import xarray as xr\n",
    "import numpy as np\n",
    "import matplotlib.pyplot as plt\n",
    "import pyproj \n",
    "from scipy.interpolate import griddata\n",
    "import pickle \n",
    "from multiprocess import Pool\n",
    "\n",
    "# Import helper functions: \n",
    "import sys\n",
    "sys.path.append('../scripts/')\n",
    "from load_data import load_RCM, load_yearly_RCM\n",
    "\n",
    "\n",
    "def grid_data(lat_ori, lon_ori, var_ori, ref_lat, ref_lon, method_name):\n",
    "    \n",
    "    '''\n",
    "    Function used to interpolate/regrid melt data to the ASCAT grid (in this case). Important that the original \n",
    "    grid and new grid is in the same projection (in this case EPSG:3413)\n",
    "    \n",
    "    Input: lat_ori, lon_ori: coordinates of the original grid (2D arrays)\n",
    "           var_ori: Data to be regridded on the original grid (2D arrays).\n",
    "           ref_lon, ref_lat: \n",
    "           method: \n",
    "    \n",
    "    Output: (melt)Data on the new grid. \n",
    "    '''\n",
    "   \n",
    "    grid_var = griddata((lon_ori.flatten(), lat_ori.flatten()), var_ori.flatten(), (ref_lon, ref_lat), method=method_name)\n",
    "\n",
    "    return grid_var\n",
    "    \n",
    "# Function for multiprocessing the regridding of melt data: \n",
    "def multiprocess_griddig(doy):\n",
    "    '''\n",
    "    Function used for multiprocessing of the regridding of data. Depending on the resolution of the RCM, the method\n",
    "    of the regridding might need to be changed. \n",
    "    \n",
    "    Input: doy: day of the year \n",
    "    \n",
    "    Outout: grid_var: Data on the new grid for the given day of the year. \n",
    "    '''\n",
    "    \n",
    "    data_var = melt_data[doy]\n",
    "    grid_var = np.flipud(grid_data(polar_lat, polar_lon, data_var, tif_lat, tif_lon, 'nearest'))\n",
    "    return grid_var   "
   ]
  },
  {
   "cell_type": "markdown",
   "id": "ae1d390d",
   "metadata": {},
   "source": [
    "# Choose RCM and year to regrid "
   ]
  },
  {
   "cell_type": "code",
   "execution_count": null,
   "id": "1aff0b39",
   "metadata": {},
   "outputs": [],
   "source": [
    "home_dir = '/Volumes/disk3s1/enveo/'\n",
    "# Choose RCM and year:\n",
    "RCM_name = 'CARRA'\n",
    "year = 2020\n",
    "\n",
    "# Now we import a year and one RCM for the full year: \n",
    "polar_lat, polar_lon, melt_data= load_yearly_RCM(home_dir, RCM_name, year)\n",
    "\n",
    "# Open nc file with the desired grid; (Made using gdal_translate)\n",
    "tif_grid = xr.open_dataset(home_dir + '/tif_grid.nc')\n",
    "\n",
    "# Generate ASCAT grid: \n",
    "tif_x = tif_grid.x\n",
    "tif_y = tif_grid.y\n",
    "tif_lon, tif_lat = np.meshgrid(tif_x,tif_y)"
   ]
  },
  {
   "cell_type": "markdown",
   "id": "46a5d551",
   "metadata": {},
   "source": [
    "# Perform regridding and plot "
   ]
  },
  {
   "cell_type": "code",
   "execution_count": null,
   "id": "4336c6f0",
   "metadata": {},
   "outputs": [],
   "source": [
    "# Day of the year. \n",
    "doy = np.arange(0,np.size(melt_data,0))\n",
    "\n",
    "# Regrid using multiprossing. Remember to check if the method is correct in the function definition.\n",
    "pool = Pool(5)\n",
    "pool_output = pool.map(multiprocess_griddig,doy)\n",
    "pool.close()\n",
    "pool.join \n",
    "\n",
    "# Reshape results:\n",
    "data_regrid_shape = (np.size(melt_data,0), 540,299)\n",
    "melt_regridded = np.reshape(pool_output, data_regrid_shape)\n",
    "\n",
    "# Save as pickle:\n",
    "with open(home_dir + f'/regriddedRCM/{RCM_name}_{year}_regridded_nearest.pkl','wb') as f:\n",
    "    pickle.dump(melt_regridded, f)\n",
    "\n",
    "# Plot orginal data and regridded data; \n",
    "fig, (ax1,ax2) = plt.subplots(1,2, figsize = (7.5,5))\n",
    "ax2.imshow(melt_regridded[200],vmin = 0, vmax = 140,cmap ='jet')\n",
    "im = ax1.imshow(np.flip(melt_data[200],0),vmin = 0, vmax = 140, cmap= 'jet' )\n",
    "ax1.set_title(f'{RCM_name} orginal grid')\n",
    "ax2.set_title(f'{RCM_name} regridded to ASCAT grid')\n",
    "plt.colorbar(im, ax = ax2, label = 'Meltwater production [mmWE/day]')"
   ]
  },
  {
   "cell_type": "code",
   "execution_count": null,
   "id": "c280587e-0262-462e-84b9-f84fc90b99f9",
   "metadata": {},
   "outputs": [],
   "source": []
  }
 ],
 "metadata": {
  "kernelspec": {
   "display_name": "Python 3 (ipykernel)",
   "language": "python",
   "name": "python3"
  },
  "language_info": {
   "codemirror_mode": {
    "name": "ipython",
    "version": 3
   },
   "file_extension": ".py",
   "mimetype": "text/x-python",
   "name": "python",
   "nbconvert_exporter": "python",
   "pygments_lexer": "ipython3",
   "version": "3.11.4"
  }
 },
 "nbformat": 4,
 "nbformat_minor": 5
}
